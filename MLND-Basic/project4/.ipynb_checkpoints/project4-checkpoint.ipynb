{
 "cells": [
  {
   "cell_type": "markdown",
   "metadata": {},
   "source": [
    "# 项目说明\n",
    "\n",
    "## 项目背景\n",
    "\n",
    "本项目通过对“泰坦尼克数据”进行探索分析，提出若干问题并尝试进行分析解答。\n",
    "\n",
    "## 数据集\n",
    "\n",
    "泰坦尼克号数据，包括泰坦尼克号上 2224 名乘客和船员中 891 名的人口学数据和基本信息。\n",
    "\n",
    "## 提出问题\n",
    "\n",
    "本项目将针对以下几个问题进行分析探索：\n",
    "\n",
    "1. 生还率统计\n",
    "2. 性别与生还率的关系\n",
    "3. 年龄与生还率的关系\n",
    "4. 舱位等级与生还率的关系\n",
    "5. 生还率综合分析"
   ]
  },
  {
   "cell_type": "markdown",
   "metadata": {},
   "source": [
    "# 代码初始化\n",
    "\n",
    "以下对项目代码进行初始化，包括引入必要库函数，以及读取数据集 csv 文件等。"
   ]
  },
  {
   "cell_type": "code",
   "execution_count": 538,
   "metadata": {
    "collapsed": true
   },
   "outputs": [],
   "source": [
    "%matplotlib inline\n",
    "\n",
    "import numpy as np\n",
    "import pandas as pd\n",
    "import matplotlib.pyplot as plt\n",
    "from IPython.display import display\n",
    "\n",
    "data_df = pd.read_csv('titanic-data.csv')"
   ]
  },
  {
   "cell_type": "markdown",
   "metadata": {},
   "source": [
    "# 皮尔逊积矩相关系数\n",
    "\n",
    "以下代码定义了计算皮尔逊积矩相关系数的函数，用于之后的分析中。"
   ]
  },
  {
   "cell_type": "code",
   "execution_count": 539,
   "metadata": {
    "collapsed": true
   },
   "outputs": [],
   "source": [
    "def correlation(x, y):\n",
    "    '''Calculate the correlation between two series.\n",
    "    \n",
    "    Attributes:\n",
    "        x: The first series.\n",
    "        y: The second series.\n",
    "    \n",
    "    Returns:\n",
    "        r: Int. The Pearson's r.\n",
    "    '''\n",
    "    std_x = (x - x.mean()) / x.std(ddof=0)\n",
    "    std_y = (y - y.mean()) / y.std(ddof=0)\n",
    "\n",
    "    return (std_x * std_y).mean()"
   ]
  },
  {
   "cell_type": "markdown",
   "metadata": {},
   "source": [
    "# 问题一：生还率统计\n",
    "\n",
    "## 问题描述\n",
    "\n",
    "分析数据集中人员的生还率。\n",
    "\n",
    "## 分析方法\n",
    "\n",
    "对数据集按照生还结果进行分组，得到统计数据，并以饼图形式展示。\n",
    "\n",
    "## 数据处理\n",
    "\n",
    "数据集中的 Survived 列数据完整，不需要额外处理。"
   ]
  },
  {
   "cell_type": "code",
   "execution_count": 540,
   "metadata": {},
   "outputs": [
    {
     "name": "stdout",
     "output_type": "stream",
     "text": [
      "数据完整： True\n"
     ]
    }
   ],
   "source": [
    "print '数据完整：', data_df.Survived.count() == 891"
   ]
  },
  {
   "cell_type": "markdown",
   "metadata": {},
   "source": [
    "## 数据探索"
   ]
  },
  {
   "cell_type": "code",
   "execution_count": 541,
   "metadata": {},
   "outputs": [
    {
     "data": {
      "text/html": [
       "<div>\n",
       "<style>\n",
       "    .dataframe thead tr:only-child th {\n",
       "        text-align: right;\n",
       "    }\n",
       "\n",
       "    .dataframe thead th {\n",
       "        text-align: left;\n",
       "    }\n",
       "\n",
       "    .dataframe tbody tr th {\n",
       "        vertical-align: top;\n",
       "    }\n",
       "</style>\n",
       "<table border=\"1\" class=\"dataframe\">\n",
       "  <thead>\n",
       "    <tr style=\"text-align: right;\">\n",
       "      <th></th>\n",
       "      <th>Count</th>\n",
       "      <th>Pct</th>\n",
       "    </tr>\n",
       "    <tr>\n",
       "      <th>Survived</th>\n",
       "      <th></th>\n",
       "      <th></th>\n",
       "    </tr>\n",
       "  </thead>\n",
       "  <tbody>\n",
       "    <tr>\n",
       "      <th>0</th>\n",
       "      <td>549</td>\n",
       "      <td>0.616162</td>\n",
       "    </tr>\n",
       "    <tr>\n",
       "      <th>1</th>\n",
       "      <td>342</td>\n",
       "      <td>0.383838</td>\n",
       "    </tr>\n",
       "  </tbody>\n",
       "</table>\n",
       "</div>"
      ],
      "text/plain": [
       "          Count       Pct\n",
       "Survived                 \n",
       "0           549  0.616162\n",
       "1           342  0.383838"
      ]
     },
     "metadata": {},
     "output_type": "display_data"
    },
    {
     "data": {
      "text/plain": [
       "(-1.110527929435086,\n",
       " 1.1005013696949746,\n",
       " -1.1211356887777435,\n",
       " 1.1137575401437889)"
      ]
     },
     "execution_count": 541,
     "metadata": {},
     "output_type": "execute_result"
    },
    {
     "data": {
      "image/png": "[encoded data removed]",
      "text/plain": [
       "<matplotlib.figure.Figure at 0x120c53b50>"
      ]
     },
     "metadata": {},
     "output_type": "display_data"
    }
   ],
   "source": [
    "df = data_df.groupby('Survived').agg({'Survived': 'count'})\n",
    "df = df.rename(columns = {'Survived':'Count'})\n",
    "df['Pct'] = df.apply(lambda x: x / float(x.sum()))\n",
    "display(df)\n",
    "\n",
    "labels = [u'Unsurvived', u'Survived']\n",
    "colors = ['gainsboro', 'darkgrey']\n",
    "df.plot.pie(y='Count', labels=labels, autopct='%1.2f%%', colors=colors)\n",
    "plt.axis('equal')"
   ]
  },
  {
   "cell_type": "markdown",
   "metadata": {},
   "source": [
    "## 分析结论\n",
    "\n",
    "在本数据集全部的 891 人中，生还 342 人，占比38.38%；死亡 549 人，占比 61.62%。"
   ]
  },
  {
   "cell_type": "markdown",
   "metadata": {},
   "source": [
    "# 问题二：性别与生还率的关系\n",
    "\n",
    "## 问题描述\n",
    "\n",
    "分析数据集中人员的性别与生还率之间的关系。\n",
    "\n",
    "## 分析方法\n",
    "\n",
    "1. 统计数据集中的性别分布，并以饼图形式展示。\n",
    "2. 统计数据集中不同性别的生还率，并以矩形图形式展示。\n",
    "3. 分析性别与生还率之间的关系。\n",
    "\n",
    "## 数据处理\n",
    "\n",
    "数据集中的 Sex 列数据完整，不需要额外处理。"
   ]
  },
  {
   "cell_type": "code",
   "execution_count": 542,
   "metadata": {},
   "outputs": [
    {
     "name": "stdout",
     "output_type": "stream",
     "text": [
      "数据完整： True\n"
     ]
    }
   ],
   "source": [
    "print '数据完整：', data_df.Sex.count() == 891"
   ]
  },
  {
   "cell_type": "markdown",
   "metadata": {},
   "source": [
    "## 数据探索\n",
    "\n",
    "### 性别分布统计"
   ]
  },
  {
   "cell_type": "code",
   "execution_count": 543,
   "metadata": {},
   "outputs": [
    {
     "data": {
      "text/html": [
       "<div>\n",
       "<style>\n",
       "    .dataframe thead tr:only-child th {\n",
       "        text-align: right;\n",
       "    }\n",
       "\n",
       "    .dataframe thead th {\n",
       "        text-align: left;\n",
       "    }\n",
       "\n",
       "    .dataframe tbody tr th {\n",
       "        vertical-align: top;\n",
       "    }\n",
       "</style>\n",
       "<table border=\"1\" class=\"dataframe\">\n",
       "  <thead>\n",
       "    <tr style=\"text-align: right;\">\n",
       "      <th></th>\n",
       "      <th>Count</th>\n",
       "      <th>Pct</th>\n",
       "    </tr>\n",
       "    <tr>\n",
       "      <th>Sex</th>\n",
       "      <th></th>\n",
       "      <th></th>\n",
       "    </tr>\n",
       "  </thead>\n",
       "  <tbody>\n",
       "    <tr>\n",
       "      <th>female</th>\n",
       "      <td>314</td>\n",
       "      <td>0.352413</td>\n",
       "    </tr>\n",
       "    <tr>\n",
       "      <th>male</th>\n",
       "      <td>577</td>\n",
       "      <td>0.647587</td>\n",
       "    </tr>\n",
       "  </tbody>\n",
       "</table>\n",
       "</div>"
      ],
      "text/plain": [
       "        Count       Pct\n",
       "Sex                    \n",
       "female    314  0.352413\n",
       "male      577  0.647587"
      ]
     },
     "metadata": {},
     "output_type": "display_data"
    },
    {
     "data": {
      "text/plain": [
       "(-1.1118283350684617,\n",
       " 1.1005632874873577,\n",
       " -1.1076137811100177,\n",
       " 1.1135982498635462)"
      ]
     },
     "execution_count": 543,
     "metadata": {},
     "output_type": "execute_result"
    },
    {
     "data": {
      "image/png": "[encoded data removed]",
      "text/plain": [
       "<matplotlib.figure.Figure at 0x120cca9d0>"
      ]
     },
     "metadata": {},
     "output_type": "display_data"
    }
   ],
   "source": [
    "df = data_df.groupby('Sex').agg({'Sex': 'count'})\n",
    "df = df.rename(columns = {'Sex':'Count'})\n",
    "df['Pct'] = df.apply(lambda x: x / float(x.sum()))\n",
    "display(df)\n",
    "\n",
    "labels = [u'Female', u'Male']\n",
    "colors = ['gainsboro', 'darkgrey']\n",
    "df.plot.pie(y='Count', labels=labels, autopct='%1.2f%%', colors=colors)\n",
    "plt.axis('equal')"
   ]
  },
  {
   "cell_type": "markdown",
   "metadata": {},
   "source": [
    "### 性别与生还率统计"
   ]
  },
  {
   "cell_type": "code",
   "execution_count": 544,
   "metadata": {},
   "outputs": [
    {
     "data": {
      "text/html": [
       "<div>\n",
       "<style>\n",
       "    .dataframe thead tr:only-child th {\n",
       "        text-align: right;\n",
       "    }\n",
       "\n",
       "    .dataframe thead th {\n",
       "        text-align: left;\n",
       "    }\n",
       "\n",
       "    .dataframe tbody tr th {\n",
       "        vertical-align: top;\n",
       "    }\n",
       "</style>\n",
       "<table border=\"1\" class=\"dataframe\">\n",
       "  <thead>\n",
       "    <tr style=\"text-align: right;\">\n",
       "      <th></th>\n",
       "      <th></th>\n",
       "      <th>Count</th>\n",
       "      <th>Pct</th>\n",
       "    </tr>\n",
       "    <tr>\n",
       "      <th>Sex</th>\n",
       "      <th>Survived</th>\n",
       "      <th></th>\n",
       "      <th></th>\n",
       "    </tr>\n",
       "  </thead>\n",
       "  <tbody>\n",
       "    <tr>\n",
       "      <th rowspan=\"2\" valign=\"top\">female</th>\n",
       "      <th>0</th>\n",
       "      <td>81</td>\n",
       "      <td>0.257962</td>\n",
       "    </tr>\n",
       "    <tr>\n",
       "      <th>1</th>\n",
       "      <td>233</td>\n",
       "      <td>0.742038</td>\n",
       "    </tr>\n",
       "    <tr>\n",
       "      <th rowspan=\"2\" valign=\"top\">male</th>\n",
       "      <th>0</th>\n",
       "      <td>468</td>\n",
       "      <td>0.811092</td>\n",
       "    </tr>\n",
       "    <tr>\n",
       "      <th>1</th>\n",
       "      <td>109</td>\n",
       "      <td>0.188908</td>\n",
       "    </tr>\n",
       "  </tbody>\n",
       "</table>\n",
       "</div>"
      ],
      "text/plain": [
       "                 Count       Pct\n",
       "Sex    Survived                 \n",
       "female 0            81  0.257962\n",
       "       1           233  0.742038\n",
       "male   0           468  0.811092\n",
       "       1           109  0.188908"
      ]
     },
     "metadata": {},
     "output_type": "display_data"
    }
   ],
   "source": [
    "df = data_df.groupby(['Sex', 'Survived']).agg({'Sex': 'count'})\n",
    "df = df.rename(columns = {'Sex':'Count'})\n",
    "df['Pct'] = df.groupby(level='Sex').apply(lambda x: x / float(x.sum()))\n",
    "display(df)"
   ]
  },
  {
   "cell_type": "code",
   "execution_count": 545,
   "metadata": {},
   "outputs": [
    {
     "data": {
      "text/plain": [
       "<matplotlib.text.Text at 0x120cf5c50>"
      ]
     },
     "execution_count": 545,
     "metadata": {},
     "output_type": "execute_result"
    },
    {
     "data": {
      "image/png": "[encoded data removed]",
      "text/plain": [
       "<matplotlib.figure.Figure at 0x120c0c350>"
      ]
     },
     "metadata": {},
     "output_type": "display_data"
    }
   ],
   "source": [
    "survived_by_sex = data_df.groupby(['Survived', 'Sex'])['Survived'].count()\n",
    "unsurvived_people = survived_by_sex[0]\n",
    "survived_people = survived_by_sex[1]\n",
    "\n",
    "ind = [0, 1]\n",
    "p0 = plt.bar(ind, unsurvived_people, color='gainsboro')\n",
    "p1 = plt.bar(ind, survived_people, color='darkgrey', bottom=unsurvived_people)\n",
    "\n",
    "plt.xticks(ind, ('Female', 'Male'))\n",
    "plt.legend((p0[0], p1[0]), ('Unsurvived', 'Survived'))\n",
    "plt.ylabel('People')"
   ]
  },
  {
   "cell_type": "markdown",
   "metadata": {},
   "source": [
    "## 分析结论\n",
    "\n",
    "在数据集中，女性 314 人，占比 35.24%。其中生还 233 人，未生还 81 人，生还率 74.2%。男性 577 人，占比 64.76%，其中生还 109 人，未生还 468 人，生还率 18.89%。从矩形图上也可以明显看出女性生还率远高于男性。\n",
    "\n",
    "在海难中，女性并不天生具备比男性更多的生存优势。生存率的差异可能表明在当时女性受到了额外的保护。在关于泰坦尼克的各种报道中，都提到当时船上要求妇女与儿童优先逃生。这里的数据统计和图表清晰地展现了这一绅士精神。"
   ]
  },
  {
   "cell_type": "markdown",
   "metadata": {},
   "source": [
    "# 问题三：年龄与生还率的关系\n",
    "\n",
    "## 问题描述\n",
    "\n",
    "分析数据集中人员的年龄与生还率之间的关系。\n",
    "\n",
    "## 分析方法\n",
    "\n",
    "1. 统计数据集中的年龄分布，并以饼图形式展示。\n",
    "2. 使用皮尔逊积矩相关系数分析年龄与生还结果之间的关系。\n",
    "3. 统计数据集中不同年龄段的生还率，并以矩形图形式展示。\n",
    "4. 分析年龄与生还率之间的关系。\n",
    "\n",
    "本项目中按照年龄将人员划分为三类：\n",
    "* 儿童 - 14 周岁以下（含14周岁）\n",
    "* 成人 - 15 至 59周岁\n",
    "* 老人 - 60周岁以上\n",
    "\n",
    "## 数据处理\n",
    "\n",
    "数据集中部分行缺少 Age 数据，应在统计中排除。"
   ]
  },
  {
   "cell_type": "code",
   "execution_count": 546,
   "metadata": {},
   "outputs": [
    {
     "name": "stdout",
     "output_type": "stream",
     "text": [
      "数据完整： False\n"
     ]
    }
   ],
   "source": [
    "print '数据完整：', data_df.Age.count() == 891"
   ]
  },
  {
   "cell_type": "code",
   "execution_count": 547,
   "metadata": {},
   "outputs": [],
   "source": [
    "age_df = data_df.loc[:, ['Survived', 'Age']][data_df.Age > 0]"
   ]
  },
  {
   "cell_type": "markdown",
   "metadata": {},
   "source": [
    "## 数据探索\n",
    "\n",
    "### 年龄分布统计"
   ]
  },
  {
   "cell_type": "code",
   "execution_count": 548,
   "metadata": {},
   "outputs": [
    {
     "data": {
      "text/html": [
       "<div>\n",
       "<style>\n",
       "    .dataframe thead tr:only-child th {\n",
       "        text-align: right;\n",
       "    }\n",
       "\n",
       "    .dataframe thead th {\n",
       "        text-align: left;\n",
       "    }\n",
       "\n",
       "    .dataframe tbody tr th {\n",
       "        vertical-align: top;\n",
       "    }\n",
       "</style>\n",
       "<table border=\"1\" class=\"dataframe\">\n",
       "  <thead>\n",
       "    <tr style=\"text-align: right;\">\n",
       "      <th></th>\n",
       "      <th>Count</th>\n",
       "      <th>Pct</th>\n",
       "    </tr>\n",
       "    <tr>\n",
       "      <th>AgeRanges</th>\n",
       "      <th></th>\n",
       "      <th></th>\n",
       "    </tr>\n",
       "  </thead>\n",
       "  <tbody>\n",
       "    <tr>\n",
       "      <th>(0, 15]</th>\n",
       "      <td>83</td>\n",
       "      <td>0.116246</td>\n",
       "    </tr>\n",
       "    <tr>\n",
       "      <th>(15, 60]</th>\n",
       "      <td>609</td>\n",
       "      <td>0.852941</td>\n",
       "    </tr>\n",
       "    <tr>\n",
       "      <th>(60, 100]</th>\n",
       "      <td>22</td>\n",
       "      <td>0.030812</td>\n",
       "    </tr>\n",
       "  </tbody>\n",
       "</table>\n",
       "</div>"
      ],
      "text/plain": [
       "           Count       Pct\n",
       "AgeRanges                 \n",
       "(0, 15]       83  0.116246\n",
       "(15, 60]     609  0.852941\n",
       "(60, 100]     22  0.030812"
      ]
     },
     "metadata": {},
     "output_type": "display_data"
    },
    {
     "name": "stdout",
     "output_type": "stream",
     "text": [
      "\n",
      "总人数： 714\n",
      "最大年龄： 80.0\n",
      "最小年龄： 0.42\n",
      "平均年龄： 29.7\n",
      "年龄中位数： 28.0\n"
     ]
    },
    {
     "data": {
      "text/plain": [
       "<matplotlib.axes._subplots.AxesSubplot at 0x120cf5950>"
      ]
     },
     "execution_count": 548,
     "metadata": {},
     "output_type": "execute_result"
    },
    {
     "data": {
      "image/png": "[encoded data removed]",
      "text/plain": [
       "<matplotlib.figure.Figure at 0x120cdae10>"
      ]
     },
     "metadata": {},
     "output_type": "display_data"
    }
   ],
   "source": [
    "age_df['AgeRanges'] = pd.cut(age_df.Age, (0, 15, 60, 100))\n",
    "\n",
    "df = age_df.groupby('AgeRanges').agg({'AgeRanges': 'count'})\n",
    "df = df.rename(columns = {'AgeRanges':'Count'})\n",
    "df['Pct'] = df.apply(lambda x : x / float(x.sum()))\n",
    "display(df)\n",
    "\n",
    "age_series = age_df['Age']\n",
    "print\n",
    "print '总人数：', age_series.count()\n",
    "print '最大年龄：', age_series.max()\n",
    "print '最小年龄：', age_series.min()\n",
    "print '平均年龄：', format(age_series.mean(), '.1f')\n",
    "print '年龄中位数：', age_series.median()\n",
    "\n",
    "bins = range(0, 100, 10)\n",
    "age_series.hist(color='gainsboro', ec='darkgrey', bins=bins)"
   ]
  },
  {
   "cell_type": "markdown",
   "metadata": {},
   "source": [
    "### 皮尔逊积矩相关系数"
   ]
  },
  {
   "cell_type": "code",
   "execution_count": 549,
   "metadata": {},
   "outputs": [
    {
     "name": "stdout",
     "output_type": "stream",
     "text": [
      "-0.0779826784139\n"
     ]
    }
   ],
   "source": [
    "print correlation(data_df['Survived'], data_df[data_df.Age > 0]['Age'])"
   ]
  },
  {
   "cell_type": "markdown",
   "metadata": {},
   "source": [
    "### 年龄与生还率统计"
   ]
  },
  {
   "cell_type": "code",
   "execution_count": 550,
   "metadata": {},
   "outputs": [
    {
     "data": {
      "text/html": [
       "<div>\n",
       "<style>\n",
       "    .dataframe thead tr:only-child th {\n",
       "        text-align: right;\n",
       "    }\n",
       "\n",
       "    .dataframe thead th {\n",
       "        text-align: left;\n",
       "    }\n",
       "\n",
       "    .dataframe tbody tr th {\n",
       "        vertical-align: top;\n",
       "    }\n",
       "</style>\n",
       "<table border=\"1\" class=\"dataframe\">\n",
       "  <thead>\n",
       "    <tr style=\"text-align: right;\">\n",
       "      <th></th>\n",
       "      <th></th>\n",
       "      <th>Age</th>\n",
       "      <th>Pct</th>\n",
       "    </tr>\n",
       "    <tr>\n",
       "      <th>AgeRanges</th>\n",
       "      <th>Survived</th>\n",
       "      <th></th>\n",
       "      <th></th>\n",
       "    </tr>\n",
       "  </thead>\n",
       "  <tbody>\n",
       "    <tr>\n",
       "      <th rowspan=\"2\" valign=\"top\">(0, 15]</th>\n",
       "      <th>0</th>\n",
       "      <td>34</td>\n",
       "      <td>0.409639</td>\n",
       "    </tr>\n",
       "    <tr>\n",
       "      <th>1</th>\n",
       "      <td>49</td>\n",
       "      <td>0.590361</td>\n",
       "    </tr>\n",
       "    <tr>\n",
       "      <th rowspan=\"2\" valign=\"top\">(15, 60]</th>\n",
       "      <th>0</th>\n",
       "      <td>373</td>\n",
       "      <td>0.612479</td>\n",
       "    </tr>\n",
       "    <tr>\n",
       "      <th>1</th>\n",
       "      <td>236</td>\n",
       "      <td>0.387521</td>\n",
       "    </tr>\n",
       "    <tr>\n",
       "      <th rowspan=\"2\" valign=\"top\">(60, 100]</th>\n",
       "      <th>0</th>\n",
       "      <td>17</td>\n",
       "      <td>0.772727</td>\n",
       "    </tr>\n",
       "    <tr>\n",
       "      <th>1</th>\n",
       "      <td>5</td>\n",
       "      <td>0.227273</td>\n",
       "    </tr>\n",
       "  </tbody>\n",
       "</table>\n",
       "</div>"
      ],
      "text/plain": [
       "                    Age       Pct\n",
       "AgeRanges Survived               \n",
       "(0, 15]   0          34  0.409639\n",
       "          1          49  0.590361\n",
       "(15, 60]  0         373  0.612479\n",
       "          1         236  0.387521\n",
       "(60, 100] 0          17  0.772727\n",
       "          1           5  0.227273"
      ]
     },
     "metadata": {},
     "output_type": "display_data"
    }
   ],
   "source": [
    "df = age_df.groupby(['AgeRanges', 'Survived']).agg('count')\n",
    "df['Pct'] = df.groupby(level=0).apply(lambda x : x / float(x.sum()))\n",
    "display(df)\n",
    "# print age_df.groupby(['Agebins', 'Survived']).count()"
   ]
  },
  {
   "cell_type": "markdown",
   "metadata": {},
   "source": [
    "## 分析结论\n",
    "\n",
    "在数据集中包含了有效年龄数据的共有 714 行。有 177 行缺少年龄数据，在分析中已排除。\n",
    "\n",
    "有效数据集中，11.62% 是儿童，共 83 人；85.29% 是成人，共 609 人，还有 22 名老人，占比 3.08%。人员中年龄最大的 80 岁，最小的不足 1 岁，平均年龄 29.7 岁，中位数 28 岁。从矩形图上看，人员年龄分布符合正态分布。\n",
    "\n",
    "人员年龄与生还结果之间的皮尔逊积矩相关系数为 -0.078，显示二者之间基本无关。这一结果展示的是二者在整体上的关系，不能说明局部关系。因为年龄有着特别含义，不同年龄段代表着不同的人群，因此还需要对细分年龄段进行分析。\n",
    "\n",
    "通过对年龄进行分组统计，可以看到儿童的生还率为 59.03%，明显高于成人的 38.75% 和老人的 22.73%。\n",
    "\n",
    "较高的生还率显示了儿童在海难中受到了一定的保护。成人生还率与平均生还率基本一致，考虑到数据集中 85.29% 为成人，这一结果是合理的。从统计数据上看老人的生还率不足 25%，看起来在海难发生时老人没有受到和儿童类似的保护。不过要注意的是这个数据集中老人的样本数量非常少，只有 22 条，因此其统计结果可能存在较大的随机性。"
   ]
  },
  {
   "cell_type": "markdown",
   "metadata": {},
   "source": [
    "# 问题四：舱位等级与生还率的关系\n",
    "\n",
    "## 问题描述\n",
    "\n",
    "分析数据集中不同舱位等级与生还率之间的关系。\n",
    "\n",
    "## 分析方法\n",
    "\n",
    "1. 统计数据集中的舱位等级分布，并以饼图形式展示。\n",
    "2. 使用皮尔逊积矩相关系数分析船票价格与生还结果之间的关系。\n",
    "3. 统计数据集中不同舱位等级的生还率，并以矩形图形式展示。\n",
    "4. 分析舱位等级与生还率之间的关系。\n",
    "\n",
    "本项目中对 Pclass 的定义：\n",
    "* 1 - 一等舱\n",
    "* 2 - 二等舱\n",
    "* 3 - 三等舱\n",
    "\n",
    "## 数据处理\n",
    "\n",
    "数据集中部分行的 Fare 列数据为 0，在统计中应排除这些行。已知 Pclass 列数据完整，不需要处理。"
   ]
  },
  {
   "cell_type": "code",
   "execution_count": 551,
   "metadata": {},
   "outputs": [
    {
     "name": "stdout",
     "output_type": "stream",
     "text": [
      "数据完整： False\n"
     ]
    }
   ],
   "source": [
    "print '数据完整：', data_df.Pclass.count() == data_df[data_df.Fare > 0].Fare.count() == 891"
   ]
  },
  {
   "cell_type": "code",
   "execution_count": 552,
   "metadata": {},
   "outputs": [],
   "source": [
    "pclass_df = data_df.loc[:, ['Survived', 'Pclass', 'Fare']][data_df.Fare > 0]"
   ]
  },
  {
   "cell_type": "markdown",
   "metadata": {},
   "source": [
    "## 数据探索一\n",
    "\n",
    "### 票价分布统计"
   ]
  },
  {
   "cell_type": "code",
   "execution_count": 553,
   "metadata": {},
   "outputs": [
    {
     "data": {
      "text/html": [
       "<div>\n",
       "<style>\n",
       "    .dataframe thead tr:only-child th {\n",
       "        text-align: right;\n",
       "    }\n",
       "\n",
       "    .dataframe thead th {\n",
       "        text-align: left;\n",
       "    }\n",
       "\n",
       "    .dataframe tbody tr th {\n",
       "        vertical-align: top;\n",
       "    }\n",
       "</style>\n",
       "<table border=\"1\" class=\"dataframe\">\n",
       "  <thead>\n",
       "    <tr>\n",
       "      <th></th>\n",
       "      <th colspan=\"8\" halign=\"left\">Fare</th>\n",
       "    </tr>\n",
       "    <tr>\n",
       "      <th></th>\n",
       "      <th>count</th>\n",
       "      <th>mean</th>\n",
       "      <th>std</th>\n",
       "      <th>min</th>\n",
       "      <th>25%</th>\n",
       "      <th>50%</th>\n",
       "      <th>75%</th>\n",
       "      <th>max</th>\n",
       "    </tr>\n",
       "    <tr>\n",
       "      <th>Pclass</th>\n",
       "      <th></th>\n",
       "      <th></th>\n",
       "      <th></th>\n",
       "      <th></th>\n",
       "      <th></th>\n",
       "      <th></th>\n",
       "      <th></th>\n",
       "      <th></th>\n",
       "    </tr>\n",
       "  </thead>\n",
       "  <tbody>\n",
       "    <tr>\n",
       "      <th>1</th>\n",
       "      <td>211.0</td>\n",
       "      <td>86.148874</td>\n",
       "      <td>78.212155</td>\n",
       "      <td>5.0000</td>\n",
       "      <td>32.9104</td>\n",
       "      <td>61.9792</td>\n",
       "      <td>99.9625</td>\n",
       "      <td>512.3292</td>\n",
       "    </tr>\n",
       "    <tr>\n",
       "      <th>2</th>\n",
       "      <td>178.0</td>\n",
       "      <td>21.358661</td>\n",
       "      <td>13.083169</td>\n",
       "      <td>10.5000</td>\n",
       "      <td>13.0000</td>\n",
       "      <td>15.0229</td>\n",
       "      <td>26.0000</td>\n",
       "      <td>73.5000</td>\n",
       "    </tr>\n",
       "    <tr>\n",
       "      <th>3</th>\n",
       "      <td>487.0</td>\n",
       "      <td>13.787875</td>\n",
       "      <td>11.760718</td>\n",
       "      <td>4.0125</td>\n",
       "      <td>7.7500</td>\n",
       "      <td>8.0500</td>\n",
       "      <td>15.5000</td>\n",
       "      <td>69.5500</td>\n",
       "    </tr>\n",
       "  </tbody>\n",
       "</table>\n",
       "</div>"
      ],
      "text/plain": [
       "         Fare                                                            \\\n",
       "        count       mean        std      min      25%      50%      75%   \n",
       "Pclass                                                                    \n",
       "1       211.0  86.148874  78.212155   5.0000  32.9104  61.9792  99.9625   \n",
       "2       178.0  21.358661  13.083169  10.5000  13.0000  15.0229  26.0000   \n",
       "3       487.0  13.787875  11.760718   4.0125   7.7500   8.0500  15.5000   \n",
       "\n",
       "                  \n",
       "             max  \n",
       "Pclass            \n",
       "1       512.3292  \n",
       "2        73.5000  \n",
       "3        69.5500  "
      ]
     },
     "metadata": {},
     "output_type": "display_data"
    }
   ],
   "source": [
    "display(pclass_df.groupby('Pclass').agg({'Fare': 'describe'}))"
   ]
  },
  {
   "cell_type": "markdown",
   "metadata": {},
   "source": [
    "### 皮尔逊积矩相关系数"
   ]
  },
  {
   "cell_type": "code",
   "execution_count": 554,
   "metadata": {},
   "outputs": [
    {
     "name": "stdout",
     "output_type": "stream",
     "text": [
      "0.253687115836\n"
     ]
    }
   ],
   "source": [
    "print correlation(pclass_df['Survived'], data_df['Fare'])"
   ]
  },
  {
   "cell_type": "markdown",
   "metadata": {
    "collapsed": true
   },
   "source": [
    "## 分析结论一\n",
    "\n",
    "从数据上看，虽然三种舱位的价格范围存在一定的重叠，甚至一等舱的最低票价低于二等舱的最低价，但通过观察平均值和分布情况可以看出，不同舱位的票价具有显著差别，可以用票价反映舱位等级的不同。因此我们可以通过计算票价与生还结果之间的皮尔逊积矩相关系数来分析二者之间的相关性。\n",
    "\n",
    "计算结果是 0.26。从这个结果上很难得出肯定的结论，但它可能暗示了舱位等级（以票价反映）与生还结果存在一定的相关性。接下来对舱位等级和生还率进行更细致的分析会给我们更准确的结果。"
   ]
  },
  {
   "cell_type": "markdown",
   "metadata": {},
   "source": [
    "## 数据探索二\n",
    "\n",
    "### 舱位等级分布统计"
   ]
  },
  {
   "cell_type": "code",
   "execution_count": 555,
   "metadata": {},
   "outputs": [
    {
     "data": {
      "text/html": [
       "<div>\n",
       "<style>\n",
       "    .dataframe thead tr:only-child th {\n",
       "        text-align: right;\n",
       "    }\n",
       "\n",
       "    .dataframe thead th {\n",
       "        text-align: left;\n",
       "    }\n",
       "\n",
       "    .dataframe tbody tr th {\n",
       "        vertical-align: top;\n",
       "    }\n",
       "</style>\n",
       "<table border=\"1\" class=\"dataframe\">\n",
       "  <thead>\n",
       "    <tr style=\"text-align: right;\">\n",
       "      <th></th>\n",
       "      <th>Count</th>\n",
       "      <th>Pct</th>\n",
       "    </tr>\n",
       "    <tr>\n",
       "      <th>Pclass</th>\n",
       "      <th></th>\n",
       "      <th></th>\n",
       "    </tr>\n",
       "  </thead>\n",
       "  <tbody>\n",
       "    <tr>\n",
       "      <th>1</th>\n",
       "      <td>211</td>\n",
       "      <td>0.240868</td>\n",
       "    </tr>\n",
       "    <tr>\n",
       "      <th>2</th>\n",
       "      <td>178</td>\n",
       "      <td>0.203196</td>\n",
       "    </tr>\n",
       "    <tr>\n",
       "      <th>3</th>\n",
       "      <td>487</td>\n",
       "      <td>0.555936</td>\n",
       "    </tr>\n",
       "  </tbody>\n",
       "</table>\n",
       "</div>"
      ],
      "text/plain": [
       "        Count       Pct\n",
       "Pclass                 \n",
       "1         211  0.240868\n",
       "2         178  0.203196\n",
       "3         487  0.555936"
      ]
     },
     "metadata": {},
     "output_type": "display_data"
    },
    {
     "data": {
      "text/plain": [
       "(-1.1092457170194023,\n",
       " 1.100440300903281,\n",
       " -1.1111850668473362,\n",
       " 1.1117001917968701)"
      ]
     },
     "execution_count": 555,
     "metadata": {},
     "output_type": "execute_result"
    },
    {
     "data": {
      "image/png": "[encoded data removed]",
      "text/plain": [
       "<matplotlib.figure.Figure at 0x1208b6950>"
      ]
     },
     "metadata": {},
     "output_type": "display_data"
    }
   ],
   "source": [
    "df = pclass_df.groupby('Pclass').agg({'Pclass': 'count'})\n",
    "df = df.rename(columns = {'Pclass':'Count'})\n",
    "df['Pct'] = df.apply(lambda x: x / float(x.sum()))\n",
    "display(df)\n",
    "\n",
    "labels = [u'Upper', u'Middle', u'Low']\n",
    "colors = ['grey', 'darkgrey', 'gainsboro']\n",
    "df.plot.pie(y='Count', labels=labels, autopct='%1.2f%%', colors=colors)\n",
    "plt.axis('equal')"
   ]
  },
  {
   "cell_type": "markdown",
   "metadata": {},
   "source": [
    "### 舱位等级与生还率统计"
   ]
  },
  {
   "cell_type": "code",
   "execution_count": 556,
   "metadata": {},
   "outputs": [
    {
     "data": {
      "text/html": [
       "<div>\n",
       "<style>\n",
       "    .dataframe thead tr:only-child th {\n",
       "        text-align: right;\n",
       "    }\n",
       "\n",
       "    .dataframe thead th {\n",
       "        text-align: left;\n",
       "    }\n",
       "\n",
       "    .dataframe tbody tr th {\n",
       "        vertical-align: top;\n",
       "    }\n",
       "</style>\n",
       "<table border=\"1\" class=\"dataframe\">\n",
       "  <thead>\n",
       "    <tr style=\"text-align: right;\">\n",
       "      <th></th>\n",
       "      <th></th>\n",
       "      <th>Count</th>\n",
       "      <th>Pct</th>\n",
       "    </tr>\n",
       "    <tr>\n",
       "      <th>Pclass</th>\n",
       "      <th>Survived</th>\n",
       "      <th></th>\n",
       "      <th></th>\n",
       "    </tr>\n",
       "  </thead>\n",
       "  <tbody>\n",
       "    <tr>\n",
       "      <th rowspan=\"2\" valign=\"top\">1</th>\n",
       "      <th>0</th>\n",
       "      <td>75</td>\n",
       "      <td>0.355450</td>\n",
       "    </tr>\n",
       "    <tr>\n",
       "      <th>1</th>\n",
       "      <td>136</td>\n",
       "      <td>0.644550</td>\n",
       "    </tr>\n",
       "    <tr>\n",
       "      <th rowspan=\"2\" valign=\"top\">2</th>\n",
       "      <th>0</th>\n",
       "      <td>91</td>\n",
       "      <td>0.511236</td>\n",
       "    </tr>\n",
       "    <tr>\n",
       "      <th>1</th>\n",
       "      <td>87</td>\n",
       "      <td>0.488764</td>\n",
       "    </tr>\n",
       "    <tr>\n",
       "      <th rowspan=\"2\" valign=\"top\">3</th>\n",
       "      <th>0</th>\n",
       "      <td>369</td>\n",
       "      <td>0.757700</td>\n",
       "    </tr>\n",
       "    <tr>\n",
       "      <th>1</th>\n",
       "      <td>118</td>\n",
       "      <td>0.242300</td>\n",
       "    </tr>\n",
       "  </tbody>\n",
       "</table>\n",
       "</div>"
      ],
      "text/plain": [
       "                 Count       Pct\n",
       "Pclass Survived                 \n",
       "1      0            75  0.355450\n",
       "       1           136  0.644550\n",
       "2      0            91  0.511236\n",
       "       1            87  0.488764\n",
       "3      0           369  0.757700\n",
       "       1           118  0.242300"
      ]
     },
     "metadata": {},
     "output_type": "display_data"
    }
   ],
   "source": [
    "df = pclass_df.groupby(['Pclass', 'Survived']).agg({'Pclass': 'count'})\n",
    "df = df.rename(columns = {'Pclass':'Count'})\n",
    "df['Pct'] = df.groupby(level=0).apply(lambda x : x / float(x.sum()))\n",
    "\n",
    "display(df)"
   ]
  },
  {
   "cell_type": "code",
   "execution_count": 557,
   "metadata": {
    "scrolled": true
   },
   "outputs": [
    {
     "data": {
      "text/plain": [
       "<matplotlib.text.Text at 0x120aa4390>"
      ]
     },
     "execution_count": 557,
     "metadata": {},
     "output_type": "execute_result"
    },
    {
     "data": {
      "image/png": "[encoded data removed]",
      "text/plain": [
       "<matplotlib.figure.Figure at 0x11bf7f490>"
      ]
     },
     "metadata": {},
     "output_type": "display_data"
    }
   ],
   "source": [
    "survived_by_pclass = pclass_df.groupby(['Survived', 'Pclass'])['Survived'].count()\n",
    "\n",
    "unsurvived_people = survived_by_pclass[0]\n",
    "survived_people = survived_by_pclass[1]\n",
    "\n",
    "ind = [0, 1, 2]\n",
    "p0 = plt.bar(ind, unsurvived_people, color='gainsboro')\n",
    "p1 = plt.bar(ind, survived_people, color='darkgrey', bottom=unsurvived_people)\n",
    "\n",
    "plt.xticks(ind, (u'Upper', u'Middle', u'Lower'))\n",
    "plt.legend((p0[0], p1[0]), ('Unsurvived', 'Survived'))\n",
    "plt.ylabel('People')"
   ]
  },
  {
   "cell_type": "markdown",
   "metadata": {},
   "source": [
    "## 分析结论二\n",
    "\n",
    "此数据集中，一等舱乘客 211 人，占比 24.09%；二等舱乘客 178 人，占比 20.32%；三等舱乘客人数最多，共 487 人，占比 55.59%。\n",
    "\n",
    "从统计数据和图表中可以看到不同舱位等级的生还率有着明显差异。一等舱乘客生还率为 62.96%，二等舱乘客生还率为 47.28%，均高于平均生还率。三等舱乘客生还率 24.24%，远低于前两者和平均生还率。\n",
    "\n",
    "根据公开资料，泰坦尼克号的三等客舱位于船体的较下部，通往甲板的通道有限，而海难发生在半夜时分，大部分乘客在客舱休息，三等舱乘客人数最多，因此三等客舱乘客的逃生难度最大。\n",
    "\n",
    "已知泰坦尼克号船上的救生艇数量有限，可搭载人数少于全体人员数。虽然我们坚持认为所有人享有平等的生命权，但从统计结果上看，不排除高等级舱位乘客获得了优先使用救生艇机会的可能性。"
   ]
  },
  {
   "cell_type": "markdown",
   "metadata": {},
   "source": [
    "# 问题五：生还率综合分析\n",
    "\n",
    "## 问题描述\n",
    "\n",
    "根据年龄、性别、舱位等级等数据对生还率进行综合分析。\n",
    "\n",
    "## 分析方法\n",
    "\n",
    "对数据集按照年龄、性别、舱位等级等进行分组，得到统计数据。\n",
    "\n",
    "在数据探索环节用年龄段取代具体年龄。年龄段的划分和定义与前面相同。\n",
    "\n",
    "## 数据处理\n",
    "\n",
    "在数据集中排除缺少 Age 列及 Fare 列为 0 的数据行。"
   ]
  },
  {
   "cell_type": "markdown",
   "metadata": {},
   "source": [
    "## 数据探索一"
   ]
  },
  {
   "cell_type": "code",
   "execution_count": 558,
   "metadata": {
    "collapsed": true
   },
   "outputs": [],
   "source": [
    "sub_df = data_df.loc[:, ['Survived', 'Sex', 'Age', 'Pclass']][(data_df.Fare > 0) & (data_df.Age > 0)]\n",
    "sub_df['AgeRanges'] = pd.cut(age_df.Age, (0, 15, 60, 100))"
   ]
  },
  {
   "cell_type": "code",
   "execution_count": 559,
   "metadata": {},
   "outputs": [
    {
     "data": {
      "text/html": [
       "<div>\n",
       "<style>\n",
       "    .dataframe thead tr:only-child th {\n",
       "        text-align: right;\n",
       "    }\n",
       "\n",
       "    .dataframe thead th {\n",
       "        text-align: left;\n",
       "    }\n",
       "\n",
       "    .dataframe tbody tr th {\n",
       "        vertical-align: top;\n",
       "    }\n",
       "</style>\n",
       "<table border=\"1\" class=\"dataframe\">\n",
       "  <thead>\n",
       "    <tr style=\"text-align: right;\">\n",
       "      <th></th>\n",
       "      <th></th>\n",
       "      <th>Total</th>\n",
       "      <th>Survived</th>\n",
       "      <th>Unurvived</th>\n",
       "      <th>SurvivalRate</th>\n",
       "    </tr>\n",
       "    <tr>\n",
       "      <th>AgeRanges</th>\n",
       "      <th>Pclass</th>\n",
       "      <th></th>\n",
       "      <th></th>\n",
       "      <th></th>\n",
       "      <th></th>\n",
       "    </tr>\n",
       "  </thead>\n",
       "  <tbody>\n",
       "    <tr>\n",
       "      <th rowspan=\"3\" valign=\"top\">(0, 15]</th>\n",
       "      <th>1</th>\n",
       "      <td>6</td>\n",
       "      <td>5</td>\n",
       "      <td>1</td>\n",
       "      <td>83.333333</td>\n",
       "    </tr>\n",
       "    <tr>\n",
       "      <th>2</th>\n",
       "      <td>19</td>\n",
       "      <td>19</td>\n",
       "      <td>0</td>\n",
       "      <td>100.000000</td>\n",
       "    </tr>\n",
       "    <tr>\n",
       "      <th>3</th>\n",
       "      <td>58</td>\n",
       "      <td>25</td>\n",
       "      <td>33</td>\n",
       "      <td>43.103448</td>\n",
       "    </tr>\n",
       "    <tr>\n",
       "      <th rowspan=\"3\" valign=\"top\">(15, 60]</th>\n",
       "      <th>1</th>\n",
       "      <td>163</td>\n",
       "      <td>114</td>\n",
       "      <td>49</td>\n",
       "      <td>69.938650</td>\n",
       "    </tr>\n",
       "    <tr>\n",
       "      <th>2</th>\n",
       "      <td>151</td>\n",
       "      <td>63</td>\n",
       "      <td>88</td>\n",
       "      <td>41.721854</td>\n",
       "    </tr>\n",
       "    <tr>\n",
       "      <th>3</th>\n",
       "      <td>288</td>\n",
       "      <td>58</td>\n",
       "      <td>230</td>\n",
       "      <td>20.138889</td>\n",
       "    </tr>\n",
       "    <tr>\n",
       "      <th rowspan=\"3\" valign=\"top\">(60, 100]</th>\n",
       "      <th>1</th>\n",
       "      <td>14</td>\n",
       "      <td>3</td>\n",
       "      <td>11</td>\n",
       "      <td>21.428571</td>\n",
       "    </tr>\n",
       "    <tr>\n",
       "      <th>2</th>\n",
       "      <td>3</td>\n",
       "      <td>1</td>\n",
       "      <td>2</td>\n",
       "      <td>33.333333</td>\n",
       "    </tr>\n",
       "    <tr>\n",
       "      <th>3</th>\n",
       "      <td>5</td>\n",
       "      <td>1</td>\n",
       "      <td>4</td>\n",
       "      <td>20.000000</td>\n",
       "    </tr>\n",
       "  </tbody>\n",
       "</table>\n",
       "</div>"
      ],
      "text/plain": [
       "                  Total  Survived  Unurvived  SurvivalRate\n",
       "AgeRanges Pclass                                          \n",
       "(0, 15]   1           6         5          1     83.333333\n",
       "          2          19        19          0    100.000000\n",
       "          3          58        25         33     43.103448\n",
       "(15, 60]  1         163       114         49     69.938650\n",
       "          2         151        63         88     41.721854\n",
       "          3         288        58        230     20.138889\n",
       "(60, 100] 1          14         3         11     21.428571\n",
       "          2           3         1          2     33.333333\n",
       "          3           5         1          4     20.000000"
      ]
     },
     "metadata": {},
     "output_type": "display_data"
    }
   ],
   "source": [
    "df = sub_df.groupby(['AgeRanges', 'Pclass']).agg({'Survived': 'count'})\n",
    "df = df.rename(columns = {'Survived':'Total'})\n",
    "\n",
    "df['Survived'] = sub_df.groupby(['AgeRanges', 'Pclass'])['Survived'].sum()\n",
    "df['Unurvived'] = df['Total'] - df['Survived']\n",
    "df['SurvivalRate'] = 100 * df['Survived'] / df['Total']\n",
    "\n",
    "display(df)"
   ]
  },
  {
   "cell_type": "markdown",
   "metadata": {},
   "source": [
    "## 分析结论一\n",
    "\n",
    "在之前的分析中我们已经知道，儿童的生还率高于平均生还率，成人生还率与平均生还率相同，老人则远低于平均值。以舱位等级的角度来看，从最高到最低等级舱位的生还率依次降低。\n",
    "\n",
    "当我们将年龄与舱位等级数据同时进行分析时，可以在上述结论的基础上看到更多细节。除老人外，一等和二等舱位的儿童和成人的生还率均远高于三等舱的。看起来对老人而言，不同舱位的乘客的逃生机会是平等的。但由于老人的样本数量太少，统计结果具有一定的随机性，我们也很难做出确定的结论。\n",
    "\n",
    "观察儿童数据，二等舱儿童的生还率甚至达到 100%（一等舱儿童由于样本数据较少，统计结果也有随机性），而三等舱儿童的生还率却不足 50%，仅略高于全体乘客的平均生还率。从各种公开报道和信息中得知，在船难发生时的确要求儿童优先逃生（这是儿童平均生还率较高的原因），我们很难假设这一政策会对不同舱位的儿童区别对待，那么对儿童逃生率差异可能的解释之一就是：很多三等舱的儿童没有机会到达甲板。在前面的分析中我们曾讨论过，三等舱在船体位置最低，人数又最多，逃生难度最大，这个结论在这里似乎得到了进一步支持。"
   ]
  },
  {
   "cell_type": "code",
   "execution_count": 560,
   "metadata": {},
   "outputs": [
    {
     "data": {
      "text/html": [
       "<div>\n",
       "<style>\n",
       "    .dataframe thead tr:only-child th {\n",
       "        text-align: right;\n",
       "    }\n",
       "\n",
       "    .dataframe thead th {\n",
       "        text-align: left;\n",
       "    }\n",
       "\n",
       "    .dataframe tbody tr th {\n",
       "        vertical-align: top;\n",
       "    }\n",
       "</style>\n",
       "<table border=\"1\" class=\"dataframe\">\n",
       "  <thead>\n",
       "    <tr style=\"text-align: right;\">\n",
       "      <th></th>\n",
       "      <th></th>\n",
       "      <th>Total</th>\n",
       "      <th>Survived</th>\n",
       "      <th>Unurvived</th>\n",
       "      <th>SurvivalRate</th>\n",
       "    </tr>\n",
       "    <tr>\n",
       "      <th>Sex</th>\n",
       "      <th>Pclass</th>\n",
       "      <th></th>\n",
       "      <th></th>\n",
       "      <th></th>\n",
       "      <th></th>\n",
       "    </tr>\n",
       "  </thead>\n",
       "  <tbody>\n",
       "    <tr>\n",
       "      <th rowspan=\"3\" valign=\"top\">female</th>\n",
       "      <th>1</th>\n",
       "      <td>85</td>\n",
       "      <td>82</td>\n",
       "      <td>3</td>\n",
       "      <td>96.470588</td>\n",
       "    </tr>\n",
       "    <tr>\n",
       "      <th>2</th>\n",
       "      <td>74</td>\n",
       "      <td>68</td>\n",
       "      <td>6</td>\n",
       "      <td>91.891892</td>\n",
       "    </tr>\n",
       "    <tr>\n",
       "      <th>3</th>\n",
       "      <td>102</td>\n",
       "      <td>47</td>\n",
       "      <td>55</td>\n",
       "      <td>46.078431</td>\n",
       "    </tr>\n",
       "    <tr>\n",
       "      <th rowspan=\"3\" valign=\"top\">male</th>\n",
       "      <th>1</th>\n",
       "      <td>98</td>\n",
       "      <td>40</td>\n",
       "      <td>58</td>\n",
       "      <td>40.816327</td>\n",
       "    </tr>\n",
       "    <tr>\n",
       "      <th>2</th>\n",
       "      <td>99</td>\n",
       "      <td>15</td>\n",
       "      <td>84</td>\n",
       "      <td>15.151515</td>\n",
       "    </tr>\n",
       "    <tr>\n",
       "      <th>3</th>\n",
       "      <td>249</td>\n",
       "      <td>37</td>\n",
       "      <td>212</td>\n",
       "      <td>14.859438</td>\n",
       "    </tr>\n",
       "  </tbody>\n",
       "</table>\n",
       "</div>"
      ],
      "text/plain": [
       "               Total  Survived  Unurvived  SurvivalRate\n",
       "Sex    Pclass                                          \n",
       "female 1          85        82          3     96.470588\n",
       "       2          74        68          6     91.891892\n",
       "       3         102        47         55     46.078431\n",
       "male   1          98        40         58     40.816327\n",
       "       2          99        15         84     15.151515\n",
       "       3         249        37        212     14.859438"
      ]
     },
     "metadata": {},
     "output_type": "display_data"
    }
   ],
   "source": [
    "df = sub_df.groupby(['Sex', 'Pclass']).agg({'Survived': 'count'})\n",
    "df = df.rename(columns = {'Survived':'Total'})\n",
    "\n",
    "df['Survived'] = sub_df.groupby(['Sex', 'Pclass'])['Survived'].sum()\n",
    "df['Unurvived'] = df['Total'] - df['Survived']\n",
    "df['SurvivalRate'] = 100 * df['Survived'] / df['Total']\n",
    "\n",
    "display(df)"
   ]
  },
  {
   "cell_type": "markdown",
   "metadata": {},
   "source": [
    "## 分析结论二\n",
    "\n",
    "我们已知女性的生还率远高于男性，通过对性别和舱位等级数据进一步细分，我们可以看到，虽然舱位等级对生还率有较高影响，一等舱乘客的逃生机会是三等舱乘客的接近三倍，但一等舱男性乘客的生还率尚不及三等舱女性乘客，合理的解释之一是在逃生过程中，女性优先的政策得到了很好的执行。和儿童类似，一二等舱位的女性逃生率接近 100%，而三等舱女性不足一半，略高于平均值，再一次说明三等舱乘客的逃生难度更大。"
   ]
  },
  {
   "cell_type": "markdown",
   "metadata": {},
   "source": [
    "## 综合结论\n",
    "\n",
    "本项目中，我们对泰坦尼克号乘客的数据集进行了分析，并分别对性别、年龄、舱位等级等与生还率的关系进行了探索。首先应该明确的一点是，本项目的 891 条数据只有泰坦尼克号所有成员的 40% 左右，因此分析结果不能完全代表全体的表现。特别是在一些细分数据的统计中，如一等舱儿童、老人等，由于样本数量较少，其统计结果具有一定的随机性。\n",
    "\n",
    "通过上面的分析，我们可以得到一些大致的结论：\n",
    "\n",
    "1. 在这次航海史上著名的海难中，只有不到 40% 的人成功逃生；\n",
    "2. 在这场悲剧中，我们看到了一些高尚的行为，女性和儿童显然得到了优先逃生的机会。这一点在各种公开信息中都可以看到，在影视作品中也有表现；\n",
    "3. 从统计数据上，我们看不到老人受到了与女性和儿童相同的待遇，但是由于样本数量较少，我们无法对这一结果做出肯定的结论；\n",
    "4. 除了老人之外，对任何性别和年龄而言，更高舱位等级的乘客有着更多的逃生机会。"
   ]
  }
 ],
 "metadata": {
  "kernelspec": {
   "display_name": "Python 2",
   "language": "python",
   "name": "python2"
  },
  "language_info": {
   "codemirror_mode": {
    "name": "ipython",
    "version": 2
   },
   "file_extension": ".py",
   "mimetype": "text/x-python",
   "name": "python",
   "nbconvert_exporter": "python",
   "pygments_lexer": "ipython2",
   "version": "2.7.13"
  }
 },
 "nbformat": 4,
 "nbformat_minor": 2
}
