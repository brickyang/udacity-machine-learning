{
 "cells": [
  {
   "cell_type": "markdown",
   "metadata": {},
   "source": [
    "# 项目说明\n",
    "\n",
    "## 项目背景\n",
    "\n",
    "本项目通过对“泰坦尼克数据”进行探索分析，提出若干问题并尝试进行分析解答。\n",
    "\n",
    "## 数据集\n",
    "\n",
    "泰坦尼克号数据，包括泰坦尼克号上 2224 名乘客和船员中 891 名的人口学数据和基本信息。\n",
    "\n",
    "## 提出问题\n",
    "\n",
    "本项目将针对以下几个问题进行分析探索：\n",
    "\n",
    "1. 生还率统计\n",
    "2. 人员性别统计\n",
    "3. 人员年龄统计\n",
    "4. 舱位等级统计\n",
    "5. 性别与生还率的关系\n",
    "6. 年龄与生还率的关系\n",
    "7. 舱位等级与生还率的关系\n",
    "8. 生还率综合分析"
   ]
  },
  {
   "cell_type": "markdown",
   "metadata": {},
   "source": [
    "# 代码初始化\n",
    "\n",
    "以下对项目代码进行初始化，包括引入必要库函数，以及读取数据集 csv 文件等。"
   ]
  },
  {
   "cell_type": "code",
   "execution_count": 175,
   "metadata": {
    "collapsed": true
   },
   "outputs": [],
   "source": [
    "%matplotlib inline\n",
    "\n",
    "import numpy as np\n",
    "import pandas as pd\n",
    "import matplotlib.pyplot as plt\n",
    "from IPython.display import display\n",
    "\n",
    "data_df = pd.read_csv('titanic-data.csv')"
   ]
  },
  {
   "cell_type": "markdown",
   "metadata": {},
   "source": [
    "# 皮尔逊积矩相关系数\n",
    "\n",
    "以下代码定义了计算皮尔逊积矩相关系数的函数，用于之后的分析中。"
   ]
  },
  {
   "cell_type": "code",
   "execution_count": 3,
   "metadata": {
    "collapsed": true
   },
   "outputs": [],
   "source": [
    "def correlation(x, y):\n",
    "    '''Calculate the correlation between two series.\n",
    "    \n",
    "    Attributes:\n",
    "        x: The first series.\n",
    "        y: The second series.\n",
    "    \n",
    "    Returns:\n",
    "        r: Int. The Pearson's r.\n",
    "    '''\n",
    "    std_x = (x - x.mean()) / x.std(ddof=0)\n",
    "    std_y = (y - y.mean()) / y.std(ddof=0)\n",
    "\n",
    "    return (std_x * std_y).mean()"
   ]
  },
  {
   "cell_type": "markdown",
   "metadata": {},
   "source": [
    "# 问题一：生还率统计\n",
    "\n",
    "## 问题描述\n",
    "\n",
    "分析数据集中人员的生还率。\n",
    "\n",
    "## 分析方法\n",
    "\n",
    "对数据集按照生还结果进行分组，得到统计数据，并以饼图形式展示。\n",
    "\n",
    "## 数据处理\n",
    "\n",
    "数据集中的 Survived 列数据完整，不需要额外处理。"
   ]
  },
  {
   "cell_type": "code",
   "execution_count": 243,
   "metadata": {},
   "outputs": [
    {
     "name": "stdout",
     "output_type": "stream",
     "text": [
      "数据完整： True\n"
     ]
    }
   ],
   "source": [
    "print '数据完整：', data_df.Survived.count() == 891"
   ]
  },
  {
   "cell_type": "code",
   "execution_count": 260,
   "metadata": {},
   "outputs": [
    {
     "name": "stdout",
     "output_type": "stream",
     "text": [
      "Survived\n",
      "0    549\n",
      "1    342\n",
      "Name: Survived, dtype: int64\n"
     ]
    },
    {
     "data": {
      "text/plain": [
       "(-1.110527929435086,\n",
       " 1.1005013696949746,\n",
       " -1.1211356887777435,\n",
       " 1.1137575401437889)"
      ]
     },
     "execution_count": 260,
     "metadata": {},
     "output_type": "execute_result"
    },
    {
     "data": {
      "image/png": "[encoded data removed]",
      "text/plain": [
       "<matplotlib.figure.Figure at 0x1204da190>"
      ]
     },
     "metadata": {},
     "output_type": "display_data"
    }
   ],
   "source": [
    "survived_groups = data_df.groupby('Survived')\n",
    "survived_series = survived_groups['Survived'].count()\n",
    "print survived_series\n",
    "\n",
    "labels = [u'Unsurvived',u'Survived']\n",
    "colors = ['gainsboro', 'darkgrey']\n",
    "survived_series.plot.pie(labels=labels, autopct='%1.2f%%', colors=colors)\n",
    "plt.axis('equal')"
   ]
  },
  {
   "cell_type": "markdown",
   "metadata": {},
   "source": [
    "## 分析结论\n",
    "\n",
    "在本数据集全部的 891 人中，生还 342 人，占比38.38%；死亡 549 人，占比 61.62%。"
   ]
  },
  {
   "cell_type": "markdown",
   "metadata": {},
   "source": [
    "# 问题二：人员性别分布\n",
    "\n",
    "## 问题描述\n",
    "\n",
    "分析数据集中人员的性别分布情况。\n",
    "\n",
    "## 分析方法\n",
    "\n",
    "对数据集按照性别进行分组，得到统计数据，并以饼图形式展示。\n",
    "\n",
    "## 数据处理\n",
    "\n",
    "数据集中的 Sex 列数据完整，不需要额外处理。"
   ]
  },
  {
   "cell_type": "code",
   "execution_count": 56,
   "metadata": {},
   "outputs": [
    {
     "name": "stdout",
     "output_type": "stream",
     "text": [
      "数据完整： True\n"
     ]
    }
   ],
   "source": [
    "print '数据完整：', data_df.Sex.count() == 891"
   ]
  },
  {
   "cell_type": "code",
   "execution_count": 262,
   "metadata": {},
   "outputs": [
    {
     "name": "stdout",
     "output_type": "stream",
     "text": [
      "Sex\n",
      "female    314\n",
      "male      577\n",
      "Name: Sex, dtype: int64\n"
     ]
    },
    {
     "data": {
      "text/plain": [
       "(-1.1118283350684617,\n",
       " 1.1005632874873577,\n",
       " -1.1076137811100177,\n",
       " 1.1135982498635462)"
      ]
     },
     "execution_count": 262,
     "metadata": {},
     "output_type": "execute_result"
    },
    {
     "data": {
      "image/png": "[encoded data removed]",
      "text/plain": [
       "<matplotlib.figure.Figure at 0x11fefc210>"
      ]
     },
     "metadata": {},
     "output_type": "display_data"
    }
   ],
   "source": [
    "sex_groups = data_df.groupby('Sex')\n",
    "sex_series = sex_groups['Sex'].count()\n",
    "print sex_series\n",
    "\n",
    "labels = [u'Female',u'Male']\n",
    "colors = ['gainsboro', 'darkgrey']\n",
    "sex_series.plot.pie(labels=labels, autopct='%1.2f%%', colors=colors)\n",
    "plt.axis('equal')"
   ]
  },
  {
   "cell_type": "markdown",
   "metadata": {},
   "source": [
    "## 分析结论\n",
    "\n",
    "在本数据集全部的 891 人中，男性 577 人，占比64.76%；女性 314 人，占比 35.24%。"
   ]
  },
  {
   "cell_type": "markdown",
   "metadata": {},
   "source": [
    "# 问题三：乘客年龄分布\n",
    "\n",
    "## 问题描述\n",
    "\n",
    "分析数据集中人员的年龄分布情况。\n",
    "\n",
    "## 分析方法\n",
    "\n",
    "对数据集按照年龄进行分组，得到统计数据，并以矩形图展示。\n",
    "\n",
    "## 数据处理\n",
    "\n",
    "数据集中部分行缺少 Age 数据，应在统计中排除。"
   ]
  },
  {
   "cell_type": "code",
   "execution_count": 55,
   "metadata": {},
   "outputs": [
    {
     "name": "stdout",
     "output_type": "stream",
     "text": [
      "数据完整： False\n"
     ]
    }
   ],
   "source": [
    "print '数据完整：', data_df.Age.count() == 891"
   ]
  },
  {
   "cell_type": "code",
   "execution_count": 264,
   "metadata": {},
   "outputs": [
    {
     "name": "stdout",
     "output_type": "stream",
     "text": [
      "总人数： 714\n",
      "最大年龄： 80.0\n",
      "最小年龄： 0.42\n",
      "平均年龄： 29.7\n",
      "年龄中位数： 28.0\n"
     ]
    },
    {
     "data": {
      "text/plain": [
       "<matplotlib.axes._subplots.AxesSubplot at 0x11fd37d50>"
      ]
     },
     "execution_count": 264,
     "metadata": {},
     "output_type": "execute_result"
    },
    {
     "data": {
      "image/png": "[encoded data removed]",
      "text/plain": [
       "<matplotlib.figure.Figure at 0x11fd0fe90>"
      ]
     },
     "metadata": {},
     "output_type": "display_data"
    }
   ],
   "source": [
    "age_series = data_df[data_df.Age != 0]['Age']\n",
    "\n",
    "print '总人数：', age_series.count()\n",
    "print '最大年龄：', age_series.max()\n",
    "print '最小年龄：', age_series.min()\n",
    "print '平均年龄：', format(age_series.mean(), '.1f')\n",
    "print '年龄中位数：', age_series.median()\n",
    "\n",
    "bins = range(0, 100, 10)\n",
    "age_series.hist(color='gainsboro', ec='darkgrey', bins=bins)"
   ]
  },
  {
   "cell_type": "markdown",
   "metadata": {},
   "source": [
    "## 分析结论\n",
    "\n",
    "在数据集中包含了有效年龄数据的共有 714 行。有 177 行缺少年龄数据，在分析中已排除。\n",
    "\n",
    "有效数据集中，人员年龄最大的为 80 岁，最小的不足 1 岁，平均年龄 29.7 岁，中位数 28 岁。从矩形图上看，人员年龄分布符合正态分布。"
   ]
  },
  {
   "cell_type": "markdown",
   "metadata": {},
   "source": [
    "# 问题四：舱位等级分布\n",
    "\n",
    "## 问题描述\n",
    "\n",
    "分析数据集中人员的舱位等级分布情况。\n",
    "\n",
    "## 分析方法\n",
    "\n",
    "对数据集按照舱位等级进行分组，得到统计数据，并以饼图展示。\n",
    "\n",
    "Pclass 含义：\n",
    "* 1 - 一等舱\n",
    "* 2 - 二等舱\n",
    "* 3 - 三等舱\n",
    "\n",
    "## 数据处理\n",
    "\n",
    "数据集中的 Pclass 列数据完整，不需要额外处理。"
   ]
  },
  {
   "cell_type": "code",
   "execution_count": 54,
   "metadata": {},
   "outputs": [
    {
     "name": "stdout",
     "output_type": "stream",
     "text": [
      "数据完整： True\n"
     ]
    }
   ],
   "source": [
    "print '数据完整：', data_df.Pclass.count() == 891"
   ]
  },
  {
   "cell_type": "code",
   "execution_count": 265,
   "metadata": {},
   "outputs": [
    {
     "name": "stdout",
     "output_type": "stream",
     "text": [
      "Pclass\n",
      "1    216\n",
      "2    184\n",
      "3    491\n",
      "Name: Pclass, dtype: int64\n"
     ]
    },
    {
     "data": {
      "text/plain": [
       "(-1.1104158812413469,\n",
       " 1.1004960085504434,\n",
       " -1.1112711825709898,\n",
       " 1.1102236100732084)"
      ]
     },
     "execution_count": 265,
     "metadata": {},
     "output_type": "execute_result"
    },
    {
     "data": {
      "image/png": "[encoded data removed]",
      "text/plain": [
       "<matplotlib.figure.Figure at 0x11fdca390>"
      ]
     },
     "metadata": {},
     "output_type": "display_data"
    }
   ],
   "source": [
    "pclass_groups = data_df.groupby('Pclass')\n",
    "pclass_series = pclass_groups['Pclass'].count()\n",
    "print pclass_series\n",
    "\n",
    "labels = [u'Upper', u'Middle', u'Low']\n",
    "colors = ['gainsboro', 'darkgrey', 'grey']\n",
    "pclass_series.plot.pie(labels=labels, autopct='%1.1f%%', colors=colors)\n",
    "plt.axis('equal')"
   ]
  },
  {
   "cell_type": "markdown",
   "metadata": {},
   "source": [
    "## 分析结论\n",
    "\n",
    "在数据集的人员中，一等舱 216 人，占比 24.2%，二等舱 184 人，占比 20.7%，三等舱 491 人，占比 55.1%。"
   ]
  },
  {
   "cell_type": "markdown",
   "metadata": {},
   "source": [
    "# 问题五：性别与生还率的关系\n",
    "\n",
    "## 问题描述\n",
    "\n",
    "分析数据集中人员的性别与生还率之间的关系。\n",
    "\n",
    "## 分析方法\n",
    "\n",
    "对数据集按照性别进行分组，得到统计数据，并以矩形图展示。\n",
    "\n",
    "## 数据处理\n",
    "\n",
    "数据集中的 Survived 和 Sex 列数据完整，不需要额外处理。"
   ]
  },
  {
   "cell_type": "code",
   "execution_count": 269,
   "metadata": {},
   "outputs": [
    {
     "data": {
      "text/html": [
       "<div>\n",
       "<style>\n",
       "    .dataframe thead tr:only-child th {\n",
       "        text-align: right;\n",
       "    }\n",
       "\n",
       "    .dataframe thead th {\n",
       "        text-align: left;\n",
       "    }\n",
       "\n",
       "    .dataframe tbody tr th {\n",
       "        vertical-align: top;\n",
       "    }\n",
       "</style>\n",
       "<table border=\"1\" class=\"dataframe\">\n",
       "  <thead>\n",
       "    <tr style=\"text-align: right;\">\n",
       "      <th></th>\n",
       "      <th></th>\n",
       "      <th>Count</th>\n",
       "      <th>Pct</th>\n",
       "    </tr>\n",
       "    <tr>\n",
       "      <th>Sex</th>\n",
       "      <th>Survived</th>\n",
       "      <th></th>\n",
       "      <th></th>\n",
       "    </tr>\n",
       "  </thead>\n",
       "  <tbody>\n",
       "    <tr>\n",
       "      <th rowspan=\"2\" valign=\"top\">female</th>\n",
       "      <th>0</th>\n",
       "      <td>81</td>\n",
       "      <td>25.796178</td>\n",
       "    </tr>\n",
       "    <tr>\n",
       "      <th>1</th>\n",
       "      <td>233</td>\n",
       "      <td>74.203822</td>\n",
       "    </tr>\n",
       "    <tr>\n",
       "      <th rowspan=\"2\" valign=\"top\">male</th>\n",
       "      <th>0</th>\n",
       "      <td>468</td>\n",
       "      <td>81.109185</td>\n",
       "    </tr>\n",
       "    <tr>\n",
       "      <th>1</th>\n",
       "      <td>109</td>\n",
       "      <td>18.890815</td>\n",
       "    </tr>\n",
       "  </tbody>\n",
       "</table>\n",
       "</div>"
      ],
      "text/plain": [
       "                 Count        Pct\n",
       "Sex    Survived                  \n",
       "female 0            81  25.796178\n",
       "       1           233  74.203822\n",
       "male   0           468  81.109185\n",
       "       1           109  18.890815"
      ]
     },
     "metadata": {},
     "output_type": "display_data"
    }
   ],
   "source": [
    "df = data_df.groupby(['Sex', 'Survived']).agg({'Sex': 'count'})\n",
    "df = df.rename(columns = {'Sex':'Count'})\n",
    "df['Pct'] = df.groupby(level='Sex').apply(lambda x: 100 * x / float(x.sum()))\n",
    "display(df)"
   ]
  },
  {
   "cell_type": "code",
   "execution_count": 267,
   "metadata": {},
   "outputs": [
    {
     "data": {
      "text/plain": [
       "<matplotlib.text.Text at 0x11fd51a10>"
      ]
     },
     "execution_count": 267,
     "metadata": {},
     "output_type": "execute_result"
    },
    {
     "data": {
      "image/png": "[encoded data removed]",
      "text/plain": [
       "<matplotlib.figure.Figure at 0x11f982990>"
      ]
     },
     "metadata": {},
     "output_type": "display_data"
    }
   ],
   "source": [
    "survived_by_sex = data_df.groupby(['Survived', 'Sex'])['Survived'].count()\n",
    "unsurvived_people = survived_by_sex[0]\n",
    "survived_people = survived_by_sex[1]\n",
    "\n",
    "ind = [0, 1]\n",
    "p0 = plt.bar(ind, unsurvived_people, color='gainsboro')\n",
    "p1 = plt.bar(ind, survived_people, color='darkgrey', bottom=unsurvived_people)\n",
    "\n",
    "plt.xticks(ind, ('Female', 'Male'))\n",
    "plt.legend((p0[0], p1[0]), ('Unsurvived', 'Survived'))\n",
    "plt.ylabel('People')"
   ]
  },
  {
   "cell_type": "markdown",
   "metadata": {},
   "source": [
    "## 分析结论\n",
    "\n",
    "在数据集中，女性 314 人，其中生还 233 人，未生还 81 人，生还率 74.2%；男性 577 人，生还 109 人，未生还 468 人，生还率 18.89%。从矩形图上也可以明显看出女性生还率远高于男性。\n",
    "\n",
    "在关于泰坦尼克的各种报道中，都提到当时船上要求妇女与儿童优先逃生。这里的数据统计和图表清晰地展示了这一绅士精神。"
   ]
  },
  {
   "cell_type": "markdown",
   "metadata": {},
   "source": [
    "# 问题六：年龄与生还率的关系\n",
    "\n",
    "## 问题描述\n",
    "\n",
    "分析数据集中人员的年龄与生还结果之间的关系。\n",
    "\n",
    "## 分析方法\n",
    "\n",
    "1. 使用皮尔逊积矩相关系数分析年龄与生还结果之间的关系\n",
    "2. 对数据集按照生还结果和年龄进行分组，得到统计数据。\n",
    "\n",
    "本项目按照年龄将人员划分为三类：\n",
    "* 儿童 - 14 周岁以下（含14周岁）\n",
    "* 成人 - 15 至 59周岁\n",
    "* 老人 - 60周岁以上\n",
    "\n",
    "## 数据处理\n",
    "\n",
    "已知数据集中的 Age 列存在数据缺失，在统计分析中应排除这些行。"
   ]
  },
  {
   "cell_type": "code",
   "execution_count": 214,
   "metadata": {},
   "outputs": [
    {
     "name": "stdout",
     "output_type": "stream",
     "text": [
      "-0.0779826784139\n"
     ]
    }
   ],
   "source": [
    "print correlation(data_df['Survived'], data_df[data_df.Age > 0]['Age'])"
   ]
  },
  {
   "cell_type": "code",
   "execution_count": 212,
   "metadata": {},
   "outputs": [
    {
     "data": {
      "text/html": [
       "<div>\n",
       "<style>\n",
       "    .dataframe thead tr:only-child th {\n",
       "        text-align: right;\n",
       "    }\n",
       "\n",
       "    .dataframe thead th {\n",
       "        text-align: left;\n",
       "    }\n",
       "\n",
       "    .dataframe tbody tr th {\n",
       "        vertical-align: top;\n",
       "    }\n",
       "</style>\n",
       "<table border=\"1\" class=\"dataframe\">\n",
       "  <thead>\n",
       "    <tr style=\"text-align: right;\">\n",
       "      <th></th>\n",
       "      <th></th>\n",
       "      <th>Age</th>\n",
       "      <th>Pct</th>\n",
       "    </tr>\n",
       "    <tr>\n",
       "      <th>Agebins</th>\n",
       "      <th>Survived</th>\n",
       "      <th></th>\n",
       "      <th></th>\n",
       "    </tr>\n",
       "  </thead>\n",
       "  <tbody>\n",
       "    <tr>\n",
       "      <th rowspan=\"2\" valign=\"top\">(0, 15]</th>\n",
       "      <th>0</th>\n",
       "      <td>34</td>\n",
       "      <td>40.963855</td>\n",
       "    </tr>\n",
       "    <tr>\n",
       "      <th>1</th>\n",
       "      <td>49</td>\n",
       "      <td>59.036145</td>\n",
       "    </tr>\n",
       "    <tr>\n",
       "      <th rowspan=\"2\" valign=\"top\">(15, 60]</th>\n",
       "      <th>0</th>\n",
       "      <td>373</td>\n",
       "      <td>61.247947</td>\n",
       "    </tr>\n",
       "    <tr>\n",
       "      <th>1</th>\n",
       "      <td>236</td>\n",
       "      <td>38.752053</td>\n",
       "    </tr>\n",
       "    <tr>\n",
       "      <th rowspan=\"2\" valign=\"top\">(60, 100]</th>\n",
       "      <th>0</th>\n",
       "      <td>17</td>\n",
       "      <td>77.272727</td>\n",
       "    </tr>\n",
       "    <tr>\n",
       "      <th>1</th>\n",
       "      <td>5</td>\n",
       "      <td>22.727273</td>\n",
       "    </tr>\n",
       "  </tbody>\n",
       "</table>\n",
       "</div>"
      ],
      "text/plain": [
       "                    Age        Pct\n",
       "Agebins   Survived                \n",
       "(0, 15]   0          34  40.963855\n",
       "          1          49  59.036145\n",
       "(15, 60]  0         373  61.247947\n",
       "          1         236  38.752053\n",
       "(60, 100] 0          17  77.272727\n",
       "          1           5  22.727273"
      ]
     },
     "metadata": {},
     "output_type": "display_data"
    }
   ],
   "source": [
    "age_df = data_df.loc[:, ['Survived', 'Age']][data_df.Age > 0]\n",
    "age_df['Agebins'] = pd.cut(age_df.Age, (0, 15, 60, 100))\n",
    "\n",
    "df = age_df.groupby(['Agebins', 'Survived']).agg('count')\n",
    "df['Pct'] = df.groupby(level=0).apply(lambda x : 100 * x / float(x.sum()))\n",
    "display(df)\n",
    "# print age_df.groupby(['Agebins', 'Survived']).count()"
   ]
  },
  {
   "cell_type": "markdown",
   "metadata": {},
   "source": [
    "## 分析结论\n",
    "\n",
    "人员年龄与生还结果数据之间的皮尔逊积矩相关系数为 -0.078，显示二者之间基本无关。这一结果展示的是二者在整体上的关系，不能说明局部关系。因为年龄有着特别含义，不同年龄段代表着不同的人群，因此还需要对细分年龄段进行分析。\n",
    "\n",
    "通过对年龄进行分组统计，可以看到儿童的生还率为 59.03%，明显高于成人的 38.75% 和老人的 22.73%。较高的生还率显示了儿童在海难中受到了一定的保护；成人生还率与公开资料中的泰坦尼克海难平均生还率相当，因为成人数量占绝大多数，因此这一结果是合理的；老人的生还率不足 25%，不过考虑到这个数据集中老人的样本数量非常少，只有 22 条，因此其统计结果可能存在较大的随机性。"
   ]
  },
  {
   "cell_type": "markdown",
   "metadata": {},
   "source": [
    "# 问题六：舱位等级与生还关系\n",
    "\n",
    "## 问题描述\n",
    "\n",
    "分析数据集中不同舱位等级与生还结果之间的关系。\n",
    "\n",
    "## 分析方法\n",
    "\n",
    "1. 使用皮尔逊积矩相关系数分析船票价格与生还结果之间的关系\n",
    "2. 对数据集按照舱位等级和生还结果进行分组，得到统计数据，并以矩形图展示。\n",
    "\n",
    "## 数据处理\n",
    "\n",
    "数据集中部分行的 Fare 列数据为 0，在统计中应排除这些行。已知 Pclass 列数据完整，不需要处理。"
   ]
  },
  {
   "cell_type": "code",
   "execution_count": 239,
   "metadata": {},
   "outputs": [
    {
     "data": {
      "text/html": [
       "<div>\n",
       "<style>\n",
       "    .dataframe thead tr:only-child th {\n",
       "        text-align: right;\n",
       "    }\n",
       "\n",
       "    .dataframe thead th {\n",
       "        text-align: left;\n",
       "    }\n",
       "\n",
       "    .dataframe tbody tr th {\n",
       "        vertical-align: top;\n",
       "    }\n",
       "</style>\n",
       "<table border=\"1\" class=\"dataframe\">\n",
       "  <thead>\n",
       "    <tr style=\"text-align: right;\">\n",
       "      <th></th>\n",
       "      <th>count</th>\n",
       "      <th>mean</th>\n",
       "      <th>std</th>\n",
       "      <th>min</th>\n",
       "      <th>25%</th>\n",
       "      <th>50%</th>\n",
       "      <th>75%</th>\n",
       "      <th>max</th>\n",
       "    </tr>\n",
       "    <tr>\n",
       "      <th>Pclass</th>\n",
       "      <th></th>\n",
       "      <th></th>\n",
       "      <th></th>\n",
       "      <th></th>\n",
       "      <th></th>\n",
       "      <th></th>\n",
       "      <th></th>\n",
       "      <th></th>\n",
       "    </tr>\n",
       "  </thead>\n",
       "  <tbody>\n",
       "    <tr>\n",
       "      <th>1</th>\n",
       "      <td>211.0</td>\n",
       "      <td>86.148874</td>\n",
       "      <td>78.212155</td>\n",
       "      <td>5.0000</td>\n",
       "      <td>32.9104</td>\n",
       "      <td>61.9792</td>\n",
       "      <td>99.9625</td>\n",
       "      <td>512.3292</td>\n",
       "    </tr>\n",
       "    <tr>\n",
       "      <th>2</th>\n",
       "      <td>178.0</td>\n",
       "      <td>21.358661</td>\n",
       "      <td>13.083169</td>\n",
       "      <td>10.5000</td>\n",
       "      <td>13.0000</td>\n",
       "      <td>15.0229</td>\n",
       "      <td>26.0000</td>\n",
       "      <td>73.5000</td>\n",
       "    </tr>\n",
       "    <tr>\n",
       "      <th>3</th>\n",
       "      <td>487.0</td>\n",
       "      <td>13.787875</td>\n",
       "      <td>11.760718</td>\n",
       "      <td>4.0125</td>\n",
       "      <td>7.7500</td>\n",
       "      <td>8.0500</td>\n",
       "      <td>15.5000</td>\n",
       "      <td>69.5500</td>\n",
       "    </tr>\n",
       "  </tbody>\n",
       "</table>\n",
       "</div>"
      ],
      "text/plain": [
       "        count       mean        std      min      25%      50%      75%  \\\n",
       "Pclass                                                                    \n",
       "1       211.0  86.148874  78.212155   5.0000  32.9104  61.9792  99.9625   \n",
       "2       178.0  21.358661  13.083169  10.5000  13.0000  15.0229  26.0000   \n",
       "3       487.0  13.787875  11.760718   4.0125   7.7500   8.0500  15.5000   \n",
       "\n",
       "             max  \n",
       "Pclass            \n",
       "1       512.3292  \n",
       "2        73.5000  \n",
       "3        69.5500  "
      ]
     },
     "metadata": {},
     "output_type": "display_data"
    }
   ],
   "source": [
    "display(data_df[data_df.Fare > 0].groupby('Pclass')['Fare'].describe())"
   ]
  },
  {
   "cell_type": "code",
   "execution_count": 241,
   "metadata": {},
   "outputs": [
    {
     "name": "stdout",
     "output_type": "stream",
     "text": [
      "船票价格与生还结果的皮尔逊积矩相关系数： 0.257306522385\n"
     ]
    }
   ],
   "source": [
    "print '船票价格与生还结果的皮尔逊积矩相关系数：', correlation(data_df['Survived'], data_df['Fare'])"
   ]
  },
  {
   "cell_type": "markdown",
   "metadata": {
    "collapsed": true
   },
   "source": [
    "## 分析结论一\n",
    "\n",
    "从数据上看，虽然三种舱位的价格范围存在一定的重叠，甚至一等舱的最低票价低于二等舱的最低价，但通过观察平均值和分布情况，发现不同舱位的票价具有显著差别，可以用票价反映舱位等级的不同。因此我们可以通过计算票价与生还结果之间的皮尔逊积矩相关系数来分析二者之间的相关性。\n",
    "\n",
    "计算结果是 0.26。从这个结果上很难得出肯定的结论，但它可能暗示了舱位等级（票价）与生还结果存在一定的相关性。接下来对舱位等级和生还率进行更细致的分析会给我们更准确的结果。"
   ]
  },
  {
   "cell_type": "code",
   "execution_count": 221,
   "metadata": {},
   "outputs": [
    {
     "data": {
      "text/html": [
       "<div>\n",
       "<style>\n",
       "    .dataframe thead tr:only-child th {\n",
       "        text-align: right;\n",
       "    }\n",
       "\n",
       "    .dataframe thead th {\n",
       "        text-align: left;\n",
       "    }\n",
       "\n",
       "    .dataframe tbody tr th {\n",
       "        vertical-align: top;\n",
       "    }\n",
       "</style>\n",
       "<table border=\"1\" class=\"dataframe\">\n",
       "  <thead>\n",
       "    <tr style=\"text-align: right;\">\n",
       "      <th></th>\n",
       "      <th></th>\n",
       "      <th>Pclass</th>\n",
       "      <th>Pct</th>\n",
       "    </tr>\n",
       "    <tr>\n",
       "      <th>Pclass</th>\n",
       "      <th>Survived</th>\n",
       "      <th></th>\n",
       "      <th></th>\n",
       "    </tr>\n",
       "  </thead>\n",
       "  <tbody>\n",
       "    <tr>\n",
       "      <th rowspan=\"2\" valign=\"top\">1</th>\n",
       "      <th>0</th>\n",
       "      <td>80</td>\n",
       "      <td>37.037037</td>\n",
       "    </tr>\n",
       "    <tr>\n",
       "      <th>1</th>\n",
       "      <td>136</td>\n",
       "      <td>62.962963</td>\n",
       "    </tr>\n",
       "    <tr>\n",
       "      <th rowspan=\"2\" valign=\"top\">2</th>\n",
       "      <th>0</th>\n",
       "      <td>97</td>\n",
       "      <td>52.717391</td>\n",
       "    </tr>\n",
       "    <tr>\n",
       "      <th>1</th>\n",
       "      <td>87</td>\n",
       "      <td>47.282609</td>\n",
       "    </tr>\n",
       "    <tr>\n",
       "      <th rowspan=\"2\" valign=\"top\">3</th>\n",
       "      <th>0</th>\n",
       "      <td>372</td>\n",
       "      <td>75.763747</td>\n",
       "    </tr>\n",
       "    <tr>\n",
       "      <th>1</th>\n",
       "      <td>119</td>\n",
       "      <td>24.236253</td>\n",
       "    </tr>\n",
       "  </tbody>\n",
       "</table>\n",
       "</div>"
      ],
      "text/plain": [
       "                 Pclass        Pct\n",
       "Pclass Survived                   \n",
       "1      0             80  37.037037\n",
       "       1            136  62.962963\n",
       "2      0             97  52.717391\n",
       "       1             87  47.282609\n",
       "3      0            372  75.763747\n",
       "       1            119  24.236253"
      ]
     },
     "metadata": {},
     "output_type": "display_data"
    }
   ],
   "source": [
    "pclass_df = data_df.loc[:, ['Survived', 'Pclass']]\n",
    "\n",
    "df = pclass_df.groupby(['Pclass', 'Survived']).agg({'Pclass': 'count'})\n",
    "df['Pct'] = df.groupby(level=0).apply(lambda x : 100 * x / float(x.sum()))\n",
    "\n",
    "display(df)"
   ]
  },
  {
   "cell_type": "code",
   "execution_count": 223,
   "metadata": {},
   "outputs": [
    {
     "data": {
      "text/plain": [
       "<matplotlib.text.Text at 0x11fbe4390>"
      ]
     },
     "execution_count": 223,
     "metadata": {},
     "output_type": "execute_result"
    },
    {
     "data": {
      "image/png": "[encoded data removed]",
      "text/plain": [
       "<matplotlib.figure.Figure at 0x11f382ed0>"
      ]
     },
     "metadata": {},
     "output_type": "display_data"
    }
   ],
   "source": [
    "survived_by_pclass = pclass_df.groupby(['Survived', 'Pclass'])['Survived'].count()\n",
    "\n",
    "unsurvived_people = survived_by_pclass[0]\n",
    "survived_people = survived_by_pclass[1]\n",
    "\n",
    "ind = [0, 1, 2]\n",
    "p0 = plt.bar(ind, unsurvived_people, color='darkgrey')\n",
    "p1 = plt.bar(ind, survived_people, color='lightgrey', bottom=unsurvived_people)\n",
    "\n",
    "plt.xticks(ind, (u'Upper', u'Middle', u'Lower'))\n",
    "plt.legend((p0[0], p1[0]), ('Unsurvived', 'Survived'))\n",
    "plt.ylabel('People')"
   ]
  },
  {
   "cell_type": "markdown",
   "metadata": {},
   "source": [
    "## 分析结论二\n",
    "\n",
    "从统计数据和图表中可以看到不同舱位等级的生还率有着明显差异。一等舱乘客生还率为 62.96%，高于全体人员的平均生还率；二等舱乘客生还率为 47.28%；三等舱乘客生还率 24.24%，远远低于前两者。\n",
    "\n",
    "根据公开资料，泰坦尼克号的三等客舱位于船体的较下部，通往甲板的通道有限，而海难发生在半夜时分，大部分乘客在客舱休息，三等舱乘客人数最多，因此三等客舱乘客的逃生难度最大。\n",
    "\n",
    "已知泰坦尼克号船上的救生艇数量有限，可搭载人数少于全体人员数。虽然我们坚持认为所有人享有平等的生命权，但从统计结果上看，不排除高等级舱位乘客获得了优先使用救生艇机会的可能性。"
   ]
  },
  {
   "cell_type": "markdown",
   "metadata": {},
   "source": [
    "# 问题七：生还率综合分析\n",
    "\n",
    "## 问题描述\n",
    "\n",
    "根据年龄、性别、舱位等级等数据对生还率进行综合分析。\n",
    "\n",
    "## 分析方法\n",
    "\n",
    "对数据集按照年龄、性别、舱位等级等进行分组，得到统计数据。\n",
    "\n",
    "## 数据处理\n",
    "\n",
    "已知数据集中的 Age 列存在数据缺失，在统计分析中应排除这些行。"
   ]
  },
  {
   "cell_type": "code",
   "execution_count": 381,
   "metadata": {},
   "outputs": [
    {
     "name": "stdout",
     "output_type": "stream",
     "text": [
      "-0.0353224988857\n",
      "0.0816294070835\n",
      "0.257306522385\n",
      "-0.338481035961\n",
      "-0.0779826784139\n"
     ]
    }
   ],
   "source": [
    "print correlation(data_df['Survived'], data_df['SibSp'])\n",
    "print correlation(data_df['Survived'], data_df['Parch'])\n",
    "\n",
    "print correlation(data_df['Survived'], data_df['Pclass'])"
   ]
  },
  {
   "cell_type": "code",
   "execution_count": null,
   "metadata": {
    "collapsed": true
   },
   "outputs": [],
   "source": []
  },
  {
   "cell_type": "code",
   "execution_count": 357,
   "metadata": {},
   "outputs": [
    {
     "name": "stdout",
     "output_type": "stream",
     "text": [
      "count    891.000000\n",
      "mean       0.383838\n",
      "std        0.486592\n",
      "min        0.000000\n",
      "25%        0.000000\n",
      "50%        0.000000\n",
      "75%        1.000000\n",
      "max        1.000000\n",
      "Name: Survived, dtype: float64\n",
      "count    891.000000\n",
      "mean       0.523008\n",
      "std        1.102743\n",
      "min        0.000000\n",
      "25%        0.000000\n",
      "50%        0.000000\n",
      "75%        1.000000\n",
      "max        8.000000\n",
      "Name: SibSp, dtype: float64\n",
      "count    891.000000\n",
      "mean       0.381594\n",
      "std        0.806057\n",
      "min        0.000000\n",
      "25%        0.000000\n",
      "50%        0.000000\n",
      "75%        0.000000\n",
      "max        6.000000\n",
      "Name: Parch, dtype: float64\n"
     ]
    }
   ],
   "source": [
    "print data_df['Survived'].describe()\n",
    "print data_df['SibSp'].describe()\n",
    "print data_df['Parch'].describe()"
   ]
  }
 ],
 "metadata": {
  "kernelspec": {
   "display_name": "Python 2",
   "language": "python",
   "name": "python2"
  },
  "language_info": {
   "codemirror_mode": {
    "name": "ipython",
    "version": 2
   },
   "file_extension": ".py",
   "mimetype": "text/x-python",
   "name": "python",
   "nbconvert_exporter": "python",
   "pygments_lexer": "ipython2",
   "version": "2.7.13"
  }
 },
 "nbformat": 4,
 "nbformat_minor": 2
}
